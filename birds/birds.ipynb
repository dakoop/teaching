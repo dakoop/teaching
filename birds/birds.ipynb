{
 "cells": [
  {
   "cell_type": "markdown",
   "metadata": {},
   "source": [
    "Notebook based on work by [Software Carpentry](https://github.com/swcarpentry/2013-04-az/blob/master/notebooks/10-introducing-bird-counting-FULL.ipynb).\n",
    "Updated by David Koop, 9/10/2015. Data files available here: [birds-small.csv](http://www.cis.umassd.edu/~dkoop/cis602-2015fa/birds-small.csv), [birds.csv](http://www.cis.umassd.edu/~dkoop/cis602-2015fa/birds.csv)"
   ]
  },
  {
   "cell_type": "code",
   "execution_count": 1,
   "metadata": {
    "collapsed": false
   },
   "outputs": [
    {
     "name": "stdout",
     "output_type": "stream",
     "text": [
      "common teal,new york,june 30\r",
      "\r\n",
      "little grebe,michigan,may 15\r",
      "\r\n",
      "bald eagle,michigan,june 09\r",
      "\r\n",
      "common teal,kansas,may 24\r",
      "\r\n",
      "albatross,new york,july 22\r",
      "\r\n",
      "common teal,michigan,june 24\r",
      "\r\n",
      "shoebill,missouri,august 07\r",
      "\r\n",
      "little grebe,michigan,august 01\r",
      "\r\n",
      "common teal,kansas,july 29\r",
      "\r\n",
      "long-tailed duck,missouri,may 07\r",
      "\r\n",
      "flamingo,new york,june 30\r",
      "\r\n",
      "heron,new york,may 05\r",
      "\r\n",
      "shoebill,kansas,june 28\r",
      "\r\n",
      "little grebe,maine,august 02\r",
      "\r\n",
      "bald eagle,kansas,june 16\r",
      "\r\n",
      "albatross,maine,june 14\r",
      "\r\n"
     ]
    }
   ],
   "source": [
    "%cat birds-small.csv"
   ]
  },
  {
   "cell_type": "code",
   "execution_count": 6,
   "metadata": {
    "collapsed": false
   },
   "outputs": [
    {
     "name": "stdout",
     "output_type": "stream",
     "text": [
      "['common teal', 'new york', 'june 30']\n",
      "['little grebe', 'michigan', 'may 15']\n",
      "['bald eagle', 'michigan', 'june 09']\n",
      "['common teal', 'kansas', 'may 24']\n",
      "['albatross', 'new york', 'july 22']\n",
      "['common teal', 'michigan', 'june 24']\n",
      "['shoebill', 'missouri', 'august 07']\n",
      "['little grebe', 'michigan', 'august 01']\n",
      "['common teal', 'kansas', 'july 29']\n",
      "['long-tailed duck', 'missouri', 'may 07']\n",
      "['flamingo', 'new york', 'june 30']\n",
      "['heron', 'new york', 'may 05']\n",
      "['shoebill', 'kansas', 'june 28']\n",
      "['little grebe', 'maine', 'august 02']\n",
      "['bald eagle', 'kansas', 'june 16']\n",
      "['albatross', 'maine', 'june 14']\n"
     ]
    }
   ],
   "source": [
    "f = open('birds-small.csv', 'r')\n",
    "for line in f:\n",
    "    print(line.strip().split(','))"
   ]
  },
  {
   "cell_type": "code",
   "execution_count": 11,
   "metadata": {
    "collapsed": false
   },
   "outputs": [
    {
     "name": "stdout",
     "output_type": "stream",
     "text": [
      "common teal,new york,june 30\n",
      "little grebe,michigan,may 15\n",
      "bald eagle,michigan,june 09\n",
      "common teal,kansas,may 24\n",
      "albatross,new york,july 22\n",
      "common teal,michigan,june 24\n",
      "shoebill,missouri,august 07\n",
      "little grebe,michigan,august 01\n",
      "common teal,kansas,july 29\n",
      "long-tailed duck,missouri,may 07\n",
      "flamingo,new york,june 30\n",
      "\"canada goose, lesser\",new york,may 05\n",
      "shoebill,kansas,june 28\n",
      "little grebe,maine,august 02\n",
      "bald eagle,kansas,june 16\n",
      "albatross,maine,june 14\n",
      "bald eagle,kentucky,august 17\n",
      "stork,new york,september 02\n",
      "long-tailed duck,missouri,june 20\n",
      "albatross,michigan,may 23\n",
      "stork,michigan,september 05\n",
      "shoebill,maine,july 14\n"
     ]
    }
   ],
   "source": [
    "f = open('birds.csv', 'r')\n",
    "for (i, line) in enumerate(f):\n",
    "    print(line.strip())\n",
    "    # print(line.strip().split(','))\n",
    "    if i > 20:\n",
    "        break"
   ]
  },
  {
   "cell_type": "code",
   "execution_count": 14,
   "metadata": {
    "collapsed": false
   },
   "outputs": [],
   "source": [
    "import csv\n",
    "data = []\n",
    "with open(\"birds.csv\", \"rU\") as f:\n",
    "    reader = csv.reader(f)\n",
    "    for row in reader:\n",
    "        data.append(row)"
   ]
  },
  {
   "cell_type": "code",
   "execution_count": 15,
   "metadata": {
    "collapsed": false
   },
   "outputs": [
    {
     "data": {
      "text/plain": [
       "[['common teal', 'new york', 'june 30'],\n",
       " ['little grebe', 'michigan', 'may 15'],\n",
       " ['bald eagle', 'michigan', 'june 09'],\n",
       " ['common teal', 'kansas', 'may 24'],\n",
       " ['albatross', 'new york', 'july 22'],\n",
       " ['common teal', 'michigan', 'june 24'],\n",
       " ['shoebill', 'missouri', 'august 07'],\n",
       " ['little grebe', 'michigan', 'august 01'],\n",
       " ['common teal', 'kansas', 'july 29'],\n",
       " ['long-tailed duck', 'missouri', 'may 07']]"
      ]
     },
     "execution_count": 15,
     "metadata": {},
     "output_type": "execute_result"
    }
   ],
   "source": [
    "data[:10]"
   ]
  },
  {
   "cell_type": "code",
   "execution_count": 18,
   "metadata": {
    "collapsed": false
   },
   "outputs": [
    {
     "name": "stdout",
     "output_type": "stream",
     "text": [
      "{'little grebe', 'canada goose, lesser', 'common teal', 'bald eagle', 'flamingo', 'shoebill', 'vulture', 'albatross', 'long-tailed duck', 'stork'}\n"
     ]
    }
   ],
   "source": [
    "# count all unique birds\n",
    "species = set()\n",
    "for row in data:\n",
    "    species.add(row[0])\n",
    "len(species)\n",
    "print(species)"
   ]
  },
  {
   "cell_type": "code",
   "execution_count": 20,
   "metadata": {
    "collapsed": false
   },
   "outputs": [],
   "source": [
    "other_birds = {\"cardinal\", \"nightengale\", \"common teal\"}"
   ]
  },
  {
   "cell_type": "code",
   "execution_count": 21,
   "metadata": {
    "collapsed": false
   },
   "outputs": [
    {
     "data": {
      "text/plain": [
       "{'albatross',\n",
       " 'bald eagle',\n",
       " 'canada goose, lesser',\n",
       " 'cardinal',\n",
       " 'common teal',\n",
       " 'flamingo',\n",
       " 'little grebe',\n",
       " 'long-tailed duck',\n",
       " 'nightengale',\n",
       " 'shoebill',\n",
       " 'stork',\n",
       " 'vulture'}"
      ]
     },
     "execution_count": 21,
     "metadata": {},
     "output_type": "execute_result"
    }
   ],
   "source": [
    "species.union(other_birds)"
   ]
  },
  {
   "cell_type": "code",
   "execution_count": 23,
   "metadata": {
    "collapsed": false
   },
   "outputs": [
    {
     "data": {
      "text/plain": [
       "{'common teal'}"
      ]
     },
     "execution_count": 23,
     "metadata": {},
     "output_type": "execute_result"
    }
   ],
   "source": [
    "other_birds.intersection(species)"
   ]
  },
  {
   "cell_type": "code",
   "execution_count": 26,
   "metadata": {
    "collapsed": false
   },
   "outputs": [
    {
     "name": "stdout",
     "output_type": "stream",
     "text": [
      "little grebe\n",
      "  missouri 146\n",
      "  michigan 154\n",
      "  kentucky 155\n",
      "  kansas 168\n",
      "  new york 160\n",
      "  maine 171\n",
      "albatross\n",
      "  kansas 169\n",
      "  missouri 149\n",
      "  michigan 158\n",
      "  kentucky 166\n",
      "  new york 186\n",
      "  maine 145\n",
      "long-tailed duck\n",
      "  kansas 158\n",
      "  michigan 177\n",
      "  missouri 168\n",
      "  kentucky 161\n",
      "  new york 164\n",
      "  maine 157\n",
      "bald eagle\n",
      "  kansas 175\n",
      "  missouri 161\n",
      "  michigan 186\n",
      "  kentucky 160\n",
      "  new york 169\n",
      "  maine 177\n",
      "canada goose, lesser\n",
      "  kentucky 159\n",
      "  michigan 159\n",
      "  missouri 135\n",
      "  kansas 165\n",
      "  new york 157\n",
      "  maine 171\n",
      "stork\n",
      "  kansas 160\n",
      "  missouri 187\n",
      "  michigan 175\n",
      "  kentucky 172\n",
      "  new york 182\n",
      "  maine 182\n",
      "shoebill\n",
      "  kentucky 158\n",
      "  michigan 178\n",
      "  missouri 170\n",
      "  kansas 161\n",
      "  new york 146\n",
      "  maine 164\n",
      "common teal\n",
      "  kansas 192\n",
      "  michigan 175\n",
      "  missouri 160\n",
      "  kentucky 183\n",
      "  new york 176\n",
      "  maine 158\n",
      "flamingo\n",
      "  kentucky 179\n",
      "  michigan 174\n",
      "  missouri 183\n",
      "  kansas 196\n",
      "  new york 155\n",
      "  maine 183\n",
      "vulture\n",
      "  kansas 159\n",
      "  missouri 160\n",
      "  michigan 166\n",
      "  kentucky 162\n",
      "  new york 156\n",
      "  maine 162\n"
     ]
    }
   ],
   "source": [
    "# count number of birds of each species seen in each state\n",
    "birds = {}\n",
    "for row in data:\n",
    "    [bird, state, date] = row\n",
    "    # row = [bird, state, date] \n",
    "    if bird not in birds:\n",
    "        birds[bird] = {}\n",
    "    if state not in birds[bird]:\n",
    "        birds[bird][state] = 1\n",
    "    else:\n",
    "        birds[bird][state] += 1\n",
    "# print(birds)\n",
    "for (bird, states) in birds.items():\n",
    "    print(bird)\n",
    "    for (state, count) in states.items():\n",
    "        print(' ', state, count)"
   ]
  },
  {
   "cell_type": "code",
   "execution_count": 27,
   "metadata": {
    "collapsed": false
   },
   "outputs": [
    {
     "data": {
      "text/plain": [
       "10000"
      ]
     },
     "execution_count": 27,
     "metadata": {},
     "output_type": "execute_result"
    }
   ],
   "source": [
    "len(data)"
   ]
  },
  {
   "cell_type": "code",
   "execution_count": 31,
   "metadata": {
    "collapsed": false
   },
   "outputs": [
    {
     "data": {
      "text/plain": [
       "[('little grebe', 160),\n",
       " ('albatross', 186),\n",
       " ('long-tailed duck', 164),\n",
       " ('bald eagle', 169),\n",
       " ('canada goose, lesser', 157),\n",
       " ('stork', 182),\n",
       " ('shoebill', 146),\n",
       " ('common teal', 176),\n",
       " ('flamingo', 155),\n",
       " ('vulture', 156)]"
      ]
     },
     "execution_count": 31,
     "metadata": {},
     "output_type": "execute_result"
    }
   ],
   "source": [
    "ny_birds = []\n",
    "for bird, states in birds.items():\n",
    "    ny_birds.append((bird, states[\"new york\"]))\n",
    "ny_birds"
   ]
  },
  {
   "cell_type": "code",
   "execution_count": 32,
   "metadata": {
    "collapsed": true
   },
   "outputs": [],
   "source": [
    "ny_birds_d = dict(ny_birds)"
   ]
  },
  {
   "cell_type": "code",
   "execution_count": 33,
   "metadata": {
    "collapsed": false
   },
   "outputs": [
    {
     "data": {
      "text/plain": [
       "{'albatross': 186,\n",
       " 'bald eagle': 169,\n",
       " 'canada goose, lesser': 157,\n",
       " 'common teal': 176,\n",
       " 'flamingo': 155,\n",
       " 'little grebe': 160,\n",
       " 'long-tailed duck': 164,\n",
       " 'shoebill': 146,\n",
       " 'stork': 182,\n",
       " 'vulture': 156}"
      ]
     },
     "execution_count": 33,
     "metadata": {},
     "output_type": "execute_result"
    }
   ],
   "source": [
    "ny_birds_d"
   ]
  },
  {
   "cell_type": "code",
   "execution_count": 34,
   "metadata": {
    "collapsed": false
   },
   "outputs": [
    {
     "data": {
      "text/plain": [
       "182"
      ]
     },
     "execution_count": 34,
     "metadata": {},
     "output_type": "execute_result"
    }
   ],
   "source": [
    "ny_birds_d[\"stork\"]"
   ]
  },
  {
   "cell_type": "code",
   "execution_count": 45,
   "metadata": {
    "collapsed": false
   },
   "outputs": [
    {
     "data": {
      "text/plain": [
       "146"
      ]
     },
     "execution_count": 45,
     "metadata": {},
     "output_type": "execute_result"
    }
   ],
   "source": [
    "min(x[1] for x in ny_birds)"
   ]
  },
  {
   "cell_type": "code",
   "execution_count": 73,
   "metadata": {
    "collapsed": false
   },
   "outputs": [
    {
     "data": {
      "text/plain": [
       "[('shoebill', 146),\n",
       " ('flamingo', 155),\n",
       " ('vulture', 156),\n",
       " ('canada goose, lesser', 157),\n",
       " ('little grebe', 160),\n",
       " ('long-tailed duck', 164),\n",
       " ('bald eagle', 169),\n",
       " ('common teal', 176),\n",
       " ('stork', 182),\n",
       " ('albatross', 186)]"
      ]
     },
     "execution_count": 73,
     "metadata": {},
     "output_type": "execute_result"
    }
   ],
   "source": [
    "sorted(ny_birds_d.items(), key=lambda x: x[1])"
   ]
  },
  {
   "cell_type": "code",
   "execution_count": 52,
   "metadata": {
    "collapsed": false
   },
   "outputs": [
    {
     "data": {
      "text/plain": [
       "datetime.datetime(2014, 5, 21, 0, 0)"
      ]
     },
     "execution_count": 52,
     "metadata": {},
     "output_type": "execute_result"
    }
   ],
   "source": [
    "from datetime import datetime\n",
    "datetime.strptime('may 21 2014', '%B %d %Y')"
   ]
  },
  {
   "cell_type": "code",
   "execution_count": 54,
   "metadata": {
    "collapsed": true
   },
   "outputs": [],
   "source": [
    "count_by_day = {}\n",
    "for row in data:\n",
    "    [bird, state, date_str] = row\n",
    "    date = datetime.strptime(date_str + \" 2014\", '%B %d %Y')\n",
    "    day_of_year = int(date.strftime(\"%j\"))\n",
    "    count_by_day[day_of_year] = \\\n",
    "        count_by_day.get(day_of_year,0) + 1"
   ]
  },
  {
   "cell_type": "code",
   "execution_count": 58,
   "metadata": {
    "collapsed": false
   },
   "outputs": [],
   "source": [
    "(days, counts) = list(zip(*count_by_day.items()))"
   ]
  },
  {
   "cell_type": "code",
   "execution_count": 59,
   "metadata": {
    "collapsed": false
   },
   "outputs": [
    {
     "data": {
      "text/plain": [
       "[<matplotlib.lines.Line2D at 0x107028470>]"
      ]
     },
     "execution_count": 59,
     "metadata": {},
     "output_type": "execute_result"
    },
    {
     "data": {
      "image/png": "[encoded data removed]",
      "text/plain": [
       "<matplotlib.figure.Figure at 0x105841208>"
      ]
     },
     "metadata": {},
     "output_type": "display_data"
    }
   ],
   "source": [
    "%matplotlib inline\n",
    "import matplotlib.pyplot as plt\n",
    "plt.plot(days, counts)"
   ]
  },
  {
   "cell_type": "code",
   "execution_count": 60,
   "metadata": {
    "collapsed": true
   },
   "outputs": [],
   "source": [
    "import pandas as pd"
   ]
  },
  {
   "cell_type": "code",
   "execution_count": 61,
   "metadata": {
    "collapsed": false
   },
   "outputs": [
    {
     "name": "stdout",
     "output_type": "stream",
     "text": [
      "Help on function read_csv in module pandas.io.parsers:\n",
      "\n",
      "read_csv(filepath_or_buffer, sep=',', dialect=None, compression='infer', doublequote=True, escapechar=None, quotechar='\"', quoting=0, skipinitialspace=False, lineterminator=None, header='infer', index_col=None, names=None, prefix=None, skiprows=None, skipfooter=None, skip_footer=0, na_values=None, na_fvalues=None, true_values=None, false_values=None, delimiter=None, converters=None, dtype=None, usecols=None, engine=None, delim_whitespace=False, as_recarray=False, na_filter=True, compact_ints=False, use_unsigned=False, low_memory=True, buffer_lines=None, warn_bad_lines=True, error_bad_lines=True, keep_default_na=True, thousands=None, comment=None, decimal=b'.', parse_dates=False, keep_date_col=False, dayfirst=False, date_parser=None, memory_map=False, float_precision=None, nrows=None, iterator=False, chunksize=None, verbose=False, encoding=None, squeeze=False, mangle_dupe_cols=True, tupleize_cols=False, infer_datetime_format=False, skip_blank_lines=True)\n",
      "    Read CSV (comma-separated) file into DataFrame\n",
      "    \n",
      "    Also supports optionally iterating or breaking of the file\n",
      "    into chunks.\n",
      "    \n",
      "    Parameters\n",
      "    ----------\n",
      "    filepath_or_buffer : string or file handle / StringIO\n",
      "        The string could be a URL. Valid URL schemes include\n",
      "        http, ftp, s3, and file. For file URLs, a\n",
      "        host is expected. For instance, a local file could be\n",
      "        file ://localhost/path/to/table.csv\n",
      "    sep : string, default ','\n",
      "        Delimiter to use. If sep is None, will try to automatically determine\n",
      "        this. Regular expressions are accepted.\n",
      "    engine : {'c', 'python'}\n",
      "        Parser engine to use. The C engine is faster while the python engine is\n",
      "        currently more feature-complete.\n",
      "    lineterminator : string (length 1), default None\n",
      "        Character to break file into lines. Only valid with C parser\n",
      "    quotechar : string (length 1)\n",
      "        The character used to denote the start and end of a quoted item. Quoted\n",
      "        items can include the delimiter and it will be ignored.\n",
      "    quoting : int or csv.QUOTE_* instance, default None\n",
      "        Control field quoting behavior per ``csv.QUOTE_*`` constants. Use one of\n",
      "        QUOTE_MINIMAL (0), QUOTE_ALL (1), QUOTE_NONNUMERIC (2) or QUOTE_NONE (3).\n",
      "        Default (None) results in QUOTE_MINIMAL behavior.\n",
      "    skipinitialspace : boolean, default False\n",
      "        Skip spaces after delimiter\n",
      "    escapechar : string (length 1), default None\n",
      "        One-character string used to escape delimiter when quoting is QUOTE_NONE.\n",
      "    dtype : Type name or dict of column -> type\n",
      "        Data type for data or columns. E.g. {'a': np.float64, 'b': np.int32}\n",
      "        (Unsupported with engine='python')\n",
      "    compression : {'gzip', 'bz2', 'infer', None}, default 'infer'\n",
      "        For on-the-fly decompression of on-disk data. If 'infer', then use gzip or\n",
      "        bz2 if filepath_or_buffer is a string ending in '.gz' or '.bz2',\n",
      "        respectively, and no decompression otherwise. Set to None for no\n",
      "        decompression.\n",
      "    dialect : string or csv.Dialect instance, default None\n",
      "        If None defaults to Excel dialect. Ignored if sep longer than 1 char\n",
      "        See csv.Dialect documentation for more details\n",
      "    header : int, list of ints\n",
      "        Row number(s) to use as the column names, and the start of the\n",
      "        data.  Defaults to 0 if no ``names`` passed, otherwise ``None``. Explicitly\n",
      "        pass ``header=0`` to be able to replace existing names. The header can be\n",
      "        a list of integers that specify row locations for a multi-index on the\n",
      "        columns E.g. [0,1,3]. Intervening rows that are not specified will be\n",
      "        skipped (e.g. 2 in this example are skipped). Note that this parameter\n",
      "        ignores commented lines and empty lines if ``skip_blank_lines=True``, so header=0\n",
      "        denotes the first line of data rather than the first line of the file.\n",
      "    skiprows : list-like or integer\n",
      "        Line numbers to skip (0-indexed) or number of lines to skip (int)\n",
      "        at the start of the file\n",
      "    index_col : int or sequence or False, default None\n",
      "        Column to use as the row labels of the DataFrame. If a sequence is given, a\n",
      "        MultiIndex is used. If you have a malformed file with delimiters at the end\n",
      "        of each line, you might consider index_col=False to force pandas to _not_\n",
      "        use the first column as the index (row names)\n",
      "    names : array-like\n",
      "        List of column names to use. If file contains no header row, then you\n",
      "        should explicitly pass header=None\n",
      "    prefix : string, default None\n",
      "        Prefix to add to column numbers when no header, e.g 'X' for X0, X1, ...\n",
      "    na_values : list-like or dict, default None\n",
      "        Additional strings to recognize as NA/NaN. If dict passed, specific\n",
      "        per-column NA values\n",
      "    true_values : list\n",
      "        Values to consider as True\n",
      "    false_values : list\n",
      "        Values to consider as False\n",
      "    keep_default_na : bool, default True\n",
      "        If na_values are specified and keep_default_na is False the default NaN\n",
      "        values are overridden, otherwise they're appended to\n",
      "    parse_dates : boolean, list of ints or names, list of lists, or dict\n",
      "        If True -> try parsing the index.\n",
      "        If [1, 2, 3] -> try parsing columns 1, 2, 3 each as a separate date column.\n",
      "        If [[1, 3]] -> combine columns 1 and 3 and parse as a single date column.\n",
      "        {'foo' : [1, 3]} -> parse columns 1, 3 as date and call result 'foo'\n",
      "        A fast-path exists for iso8601-formatted dates.\n",
      "    keep_date_col : boolean, default False\n",
      "        If True and parse_dates specifies combining multiple columns then\n",
      "        keep the original columns.\n",
      "    date_parser : function\n",
      "        Function to use for converting a sequence of string columns to an\n",
      "        array of datetime instances. The default uses dateutil.parser.parser\n",
      "        to do the conversion. Pandas will try to call date_parser in three different\n",
      "        ways, advancing to the next if an exception occurs: 1) Pass one or more arrays\n",
      "        (as defined by parse_dates) as arguments; 2) concatenate (row-wise) the string\n",
      "        values from the columns defined by parse_dates into a single array and pass\n",
      "        that; and 3) call date_parser once for each row using one or more strings\n",
      "        (corresponding to the columns defined by parse_dates) as arguments.\n",
      "    dayfirst : boolean, default False\n",
      "        DD/MM format dates, international and European format\n",
      "    thousands : str, default None\n",
      "        Thousands separator\n",
      "    comment : str, default None\n",
      "        Indicates remainder of line should not be parsed. If found at the\n",
      "        beginning of a line, the line will be ignored altogether. This parameter\n",
      "        must be a single character. Like empty lines (as long as ``skip_blank_lines=True``),\n",
      "        fully commented lines are ignored by the parameter `header`\n",
      "        but not by `skiprows`. For example, if comment='#', parsing\n",
      "        '#empty\\na,b,c\\n1,2,3' with `header=0` will result in 'a,b,c' being\n",
      "        treated as the header.\n",
      "    decimal : str, default '.'\n",
      "        Character to recognize as decimal point. E.g. use ',' for European data\n",
      "    nrows : int, default None\n",
      "        Number of rows of file to read. Useful for reading pieces of large files\n",
      "    iterator : boolean, default False\n",
      "        Return TextFileReader object\n",
      "    chunksize : int, default None\n",
      "        Return TextFileReader object for iteration\n",
      "    skipfooter : int, default 0\n",
      "        Number of lines at bottom of file to skip (Unsupported with engine='c')\n",
      "    converters : dict, default None\n",
      "        Dict of functions for converting values in certain columns. Keys can either\n",
      "        be integers or column labels\n",
      "    verbose : boolean, default False\n",
      "        Indicate number of NA values placed in non-numeric columns\n",
      "    delimiter : string, default None\n",
      "        Alternative argument name for sep. Regular expressions are accepted.\n",
      "    encoding : string, default None\n",
      "        Encoding to use for UTF when reading/writing (ex. 'utf-8'). `List of Python\n",
      "        standard encodings\n",
      "        <https://docs.python.org/3/library/codecs.html#standard-encodings>`_\n",
      "    squeeze : boolean, default False\n",
      "        If the parsed data only contains one column then return a Series\n",
      "    na_filter : boolean, default True\n",
      "        Detect missing value markers (empty strings and the value of na_values). In\n",
      "        data without any NAs, passing na_filter=False can improve the performance\n",
      "        of reading a large file\n",
      "    usecols : array-like\n",
      "        Return a subset of the columns.\n",
      "        Results in much faster parsing time and lower memory usage.\n",
      "    mangle_dupe_cols : boolean, default True\n",
      "        Duplicate columns will be specified as 'X.0'...'X.N', rather than 'X'...'X'\n",
      "    tupleize_cols : boolean, default False\n",
      "        Leave a list of tuples on columns as is (default is to convert to\n",
      "        a Multi Index on the columns)\n",
      "    error_bad_lines : boolean, default True\n",
      "        Lines with too many fields (e.g. a csv line with too many commas) will by\n",
      "        default cause an exception to be raised, and no DataFrame will be returned.\n",
      "        If False, then these \"bad lines\" will dropped from the DataFrame that is\n",
      "        returned. (Only valid with C parser)\n",
      "    warn_bad_lines : boolean, default True\n",
      "        If error_bad_lines is False, and warn_bad_lines is True, a warning for each\n",
      "        \"bad line\" will be output. (Only valid with C parser).\n",
      "    infer_datetime_format : boolean, default False\n",
      "        If True and parse_dates is enabled for a column, attempt to infer\n",
      "        the datetime format to speed up the processing\n",
      "    skip_blank_lines : boolean, default True\n",
      "        If True, skip over blank lines rather than interpreting as NaN values\n",
      "    \n",
      "    Returns\n",
      "    -------\n",
      "    result : DataFrame or TextParser\n",
      "\n"
     ]
    }
   ],
   "source": [
    "help(pd.read_csv)"
   ]
  },
  {
   "cell_type": "code",
   "execution_count": 64,
   "metadata": {
    "collapsed": false
   },
   "outputs": [],
   "source": [
    "df = pd.read_csv(\"birds.csv\", header=None, names=[\"bird\", \"state\", \"date\"])"
   ]
  },
  {
   "cell_type": "code",
   "execution_count": 69,
   "metadata": {
    "collapsed": false
   },
   "outputs": [
    {
     "data": {
      "text/plain": [
       "array(['bird', 'state', 'date'], dtype=object)"
      ]
     },
     "execution_count": 69,
     "metadata": {},
     "output_type": "execute_result"
    }
   ],
   "source": [
    "df.columns.values"
   ]
  },
  {
   "cell_type": "code",
   "execution_count": 70,
   "metadata": {
    "collapsed": false
   },
   "outputs": [
    {
     "data": {
      "text/plain": [
       "array(['common teal', 'little grebe', 'bald eagle', 'albatross',\n",
       "       'shoebill', 'long-tailed duck', 'flamingo', 'canada goose, lesser',\n",
       "       'stork', 'vulture'], dtype=object)"
      ]
     },
     "execution_count": 70,
     "metadata": {},
     "output_type": "execute_result"
    }
   ],
   "source": [
    "pd.unique(df.bird)"
   ]
  },
  {
   "cell_type": "code",
   "execution_count": 71,
   "metadata": {
    "collapsed": false
   },
   "outputs": [
    {
     "data": {
      "text/plain": [
       "count       10000\n",
       "unique        310\n",
       "top       july 12\n",
       "freq           97\n",
       "Name: date, dtype: object"
      ]
     },
     "execution_count": 71,
     "metadata": {},
     "output_type": "execute_result"
    }
   ],
   "source": [
    "df[\"date\"].describe()"
   ]
  },
  {
   "cell_type": "code",
   "execution_count": 72,
   "metadata": {
    "collapsed": false
   },
   "outputs": [
    {
     "data": {
      "text/html": [
       "<div>\n",
       "<table border=\"1\" class=\"dataframe\">\n",
       "  <thead>\n",
       "    <tr style=\"text-align: right;\">\n",
       "      <th></th>\n",
       "      <th></th>\n",
       "      <th>bird</th>\n",
       "      <th>date</th>\n",
       "    </tr>\n",
       "    <tr>\n",
       "      <th>state</th>\n",
       "      <th></th>\n",
       "      <th></th>\n",
       "      <th></th>\n",
       "    </tr>\n",
       "  </thead>\n",
       "  <tbody>\n",
       "    <tr>\n",
       "      <th rowspan=\"4\" valign=\"top\">kansas</th>\n",
       "      <th>count</th>\n",
       "      <td>1703</td>\n",
       "      <td>1703</td>\n",
       "    </tr>\n",
       "    <tr>\n",
       "      <th>unique</th>\n",
       "      <td>10</td>\n",
       "      <td>254</td>\n",
       "    </tr>\n",
       "    <tr>\n",
       "      <th>top</th>\n",
       "      <td>flamingo</td>\n",
       "      <td>july 04</td>\n",
       "    </tr>\n",
       "    <tr>\n",
       "      <th>freq</th>\n",
       "      <td>196</td>\n",
       "      <td>25</td>\n",
       "    </tr>\n",
       "    <tr>\n",
       "      <th rowspan=\"4\" valign=\"top\">kentucky</th>\n",
       "      <th>count</th>\n",
       "      <td>1655</td>\n",
       "      <td>1655</td>\n",
       "    </tr>\n",
       "    <tr>\n",
       "      <th>unique</th>\n",
       "      <td>10</td>\n",
       "      <td>246</td>\n",
       "    </tr>\n",
       "    <tr>\n",
       "      <th>top</th>\n",
       "      <td>common teal</td>\n",
       "      <td>july 28</td>\n",
       "    </tr>\n",
       "    <tr>\n",
       "      <th>freq</th>\n",
       "      <td>183</td>\n",
       "      <td>22</td>\n",
       "    </tr>\n",
       "    <tr>\n",
       "      <th rowspan=\"4\" valign=\"top\">maine</th>\n",
       "      <th>count</th>\n",
       "      <td>1670</td>\n",
       "      <td>1670</td>\n",
       "    </tr>\n",
       "    <tr>\n",
       "      <th>unique</th>\n",
       "      <td>10</td>\n",
       "      <td>245</td>\n",
       "    </tr>\n",
       "    <tr>\n",
       "      <th>top</th>\n",
       "      <td>flamingo</td>\n",
       "      <td>august 08</td>\n",
       "    </tr>\n",
       "    <tr>\n",
       "      <th>freq</th>\n",
       "      <td>183</td>\n",
       "      <td>21</td>\n",
       "    </tr>\n",
       "    <tr>\n",
       "      <th rowspan=\"4\" valign=\"top\">michigan</th>\n",
       "      <th>count</th>\n",
       "      <td>1702</td>\n",
       "      <td>1702</td>\n",
       "    </tr>\n",
       "    <tr>\n",
       "      <th>unique</th>\n",
       "      <td>10</td>\n",
       "      <td>253</td>\n",
       "    </tr>\n",
       "    <tr>\n",
       "      <th>top</th>\n",
       "      <td>bald eagle</td>\n",
       "      <td>july 18</td>\n",
       "    </tr>\n",
       "    <tr>\n",
       "      <th>freq</th>\n",
       "      <td>186</td>\n",
       "      <td>24</td>\n",
       "    </tr>\n",
       "    <tr>\n",
       "      <th rowspan=\"4\" valign=\"top\">missouri</th>\n",
       "      <th>count</th>\n",
       "      <td>1619</td>\n",
       "      <td>1619</td>\n",
       "    </tr>\n",
       "    <tr>\n",
       "      <th>unique</th>\n",
       "      <td>10</td>\n",
       "      <td>242</td>\n",
       "    </tr>\n",
       "    <tr>\n",
       "      <th>top</th>\n",
       "      <td>stork</td>\n",
       "      <td>july 02</td>\n",
       "    </tr>\n",
       "    <tr>\n",
       "      <th>freq</th>\n",
       "      <td>187</td>\n",
       "      <td>19</td>\n",
       "    </tr>\n",
       "    <tr>\n",
       "      <th rowspan=\"4\" valign=\"top\">new york</th>\n",
       "      <th>count</th>\n",
       "      <td>1651</td>\n",
       "      <td>1651</td>\n",
       "    </tr>\n",
       "    <tr>\n",
       "      <th>unique</th>\n",
       "      <td>10</td>\n",
       "      <td>249</td>\n",
       "    </tr>\n",
       "    <tr>\n",
       "      <th>top</th>\n",
       "      <td>albatross</td>\n",
       "      <td>july 21</td>\n",
       "    </tr>\n",
       "    <tr>\n",
       "      <th>freq</th>\n",
       "      <td>186</td>\n",
       "      <td>21</td>\n",
       "    </tr>\n",
       "  </tbody>\n",
       "</table>\n",
       "</div>"
      ],
      "text/plain": [
       "                        bird       date\n",
       "state                                  \n",
       "kansas   count          1703       1703\n",
       "         unique           10        254\n",
       "         top        flamingo    july 04\n",
       "         freq            196         25\n",
       "kentucky count          1655       1655\n",
       "         unique           10        246\n",
       "         top     common teal    july 28\n",
       "         freq            183         22\n",
       "maine    count          1670       1670\n",
       "         unique           10        245\n",
       "         top        flamingo  august 08\n",
       "         freq            183         21\n",
       "michigan count          1702       1702\n",
       "         unique           10        253\n",
       "         top      bald eagle    july 18\n",
       "         freq            186         24\n",
       "missouri count          1619       1619\n",
       "         unique           10        242\n",
       "         top           stork    july 02\n",
       "         freq            187         19\n",
       "new york count          1651       1651\n",
       "         unique           10        249\n",
       "         top       albatross    july 21\n",
       "         freq            186         21"
      ]
     },
     "execution_count": 72,
     "metadata": {},
     "output_type": "execute_result"
    }
   ],
   "source": [
    "df.groupby('state').describe()"
   ]
  },
  {
   "cell_type": "code",
   "execution_count": null,
   "metadata": {
    "collapsed": true
   },
   "outputs": [],
   "source": []
  }
 ],
 "metadata": {
  "kernelspec": {
   "display_name": "Python 3",
   "language": "python",
   "name": "python3"
  },
  "language_info": {
   "codemirror_mode": {
    "name": "ipython",
    "version": 3
   },
   "file_extension": ".py",
   "mimetype": "text/x-python",
   "name": "python",
   "nbconvert_exporter": "python",
   "pygments_lexer": "ipython3",
   "version": "3.4.3"
  }
 },
 "nbformat": 4,
 "nbformat_minor": 0
}
